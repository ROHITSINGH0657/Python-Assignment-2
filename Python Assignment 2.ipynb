{
 "cells": [
  {
   "cell_type": "code",
   "execution_count": null,
   "id": "2af4c343-396a-46ad-9a60-c3a4a8dbaa4e",
   "metadata": {},
   "outputs": [],
   "source": [
    "Q1. Explain with an example each when to use a for loop and a while loop?\n",
    "Ans- For Loop- The for loop is used in the case where a programmer needs to execute a part of the code until the given \n",
    "condition is satisfied. The for loop is also called a pre-tested loop. It is best to use for loop if the number of \n",
    "iterations is known in advance.\n",
    "Example- l = [1,2,3,4,5,6]\n",
    "           for i in l:\n",
    "           print(i)\n",
    "            \n",
    "  While loop- The while loop is to be used in situations where the number of iterations is unknown at first. The block of statements is executed in the while loop until the condition specified in the while loop is satisfied. It is also called a pre-tested loop.\n",
    "  \n",
    "   Example- l = 1\n",
    "            while l<=5:\n",
    "            print(i,\"welcome\")\n",
    "            l = l+1"
   ]
  },
  {
   "cell_type": "code",
   "execution_count": null,
   "id": "0ec6574f-6e91-47b1-b829-a62234607ad9",
   "metadata": {},
   "outputs": [],
   "source": [
    "Q2. Write a python program to print the sum and product of the first 10 natural numbers using for\n",
    "and while loop.\n",
    "Ans:- For Loop Sum of 10 natural number."
   ]
  },
  {
   "cell_type": "code",
   "execution_count": 1,
   "id": "4373f3dd-91f6-4864-b03d-c3cee9283cd4",
   "metadata": {},
   "outputs": [
    {
     "data": {
      "text/plain": [
       "55"
      ]
     },
     "execution_count": 1,
     "metadata": {},
     "output_type": "execute_result"
    }
   ],
   "source": [
    "s = [1,2,3,4,5,6,7,8,9,10]\n",
    "result = 0\n",
    "for i in s:\n",
    "    result = result + i\n",
    "result    "
   ]
  },
  {
   "cell_type": "code",
   "execution_count": null,
   "id": "0321d940-4ddf-494b-bb82-74bc3de26d02",
   "metadata": {},
   "outputs": [],
   "source": [
    "For Loop Product of 10 natural number."
   ]
  },
  {
   "cell_type": "code",
   "execution_count": 3,
   "id": "8be7ab9e-5a11-4144-bb02-fe15173db1b0",
   "metadata": {},
   "outputs": [
    {
     "data": {
      "text/plain": [
       "3628800"
      ]
     },
     "execution_count": 3,
     "metadata": {},
     "output_type": "execute_result"
    }
   ],
   "source": [
    "s = [1,2,3,4,5,6,7,8,9,10]\n",
    "Product = 1\n",
    "for i in s:\n",
    "    Product = Product*i    \n",
    "Product"
   ]
  },
  {
   "cell_type": "code",
   "execution_count": null,
   "id": "62ec2117-6973-4aa1-9a8a-db907cbe3994",
   "metadata": {},
   "outputs": [],
   "source": [
    "While loo[ Sum of 10 natural number."
   ]
  },
  {
   "cell_type": "code",
   "execution_count": 6,
   "id": "8ae51712-d032-4d02-a82b-2afd144ce368",
   "metadata": {},
   "outputs": [
    {
     "data": {
      "text/plain": [
       "55"
      ]
     },
     "execution_count": 6,
     "metadata": {},
     "output_type": "execute_result"
    }
   ],
   "source": [
    "i = 10\n",
    "Starting_point = 0\n",
    "Counter = 1\n",
    "while Counter <= i:\n",
    "    Starting_point = Starting_point + Counter\n",
    "    Counter = Counter + 1\n",
    "\n",
    "Starting_point       "
   ]
  },
  {
   "cell_type": "code",
   "execution_count": null,
   "id": "7e70eab7-dcd5-4a46-b30d-34fae5887c10",
   "metadata": {},
   "outputs": [],
   "source": [
    "While loo[ product of 10 natural number."
   ]
  },
  {
   "cell_type": "code",
   "execution_count": 13,
   "id": "909a6114-3278-4858-9064-325f66d156e0",
   "metadata": {},
   "outputs": [
    {
     "data": {
      "text/plain": [
       "3628800"
      ]
     },
     "execution_count": 13,
     "metadata": {},
     "output_type": "execute_result"
    }
   ],
   "source": [
    "i = 10\n",
    "product = 1\n",
    "while i > 0:\n",
    "      product = product*i\n",
    "      i = i-1\n",
    "\n",
    "product    "
   ]
  },
  {
   "cell_type": "code",
   "execution_count": null,
   "id": "fb1ff3f1-9457-4082-a54a-b6e7d712e240",
   "metadata": {},
   "outputs": [],
   "source": [
    "Q3. Create a python program to compute the electricity bill for a household.\n",
    "The per-unit charges in rupees are as follows: For the first 100 units, the user will be charged Rs. 4.5 per\n",
    "unit, for the next 100 units, the user will be charged Rs. 6 per unit, and for the next 100 units, the user will\n",
    "be charged Rs. 10 per unit, After 300 units and above the user will be charged Rs. 20 per unit.\n",
    "\n",
    "You are required to take the units of electricity consumed in a month from the user as input.\n",
    "\n",
    "Your program must pass this test case: when the unit of electricity consumed by the user in a month is\n",
    "310, the total electricity bill should be 2250."
   ]
  },
  {
   "cell_type": "code",
   "execution_count": 12,
   "id": "b3bb2584-337e-48b9-9eae-e99a169245c8",
   "metadata": {},
   "outputs": [
    {
     "name": "stdin",
     "output_type": "stream",
     "text": [
      "Enter a Electricity units:- 310\n"
     ]
    },
    {
     "name": "stdout",
     "output_type": "stream",
     "text": [
      "2250\n"
     ]
    }
   ],
   "source": [
    "units = int(input(\"Enter a Electricity units:-\"))\n",
    "Charges=0\n",
    "if units <= 100:\n",
    "    Charges = units*4.5\n",
    "elif units <= 200:\n",
    "    Charges = 450 + (units-100)*6\n",
    "elif units <= 300:\n",
    "    Charges = 450+600+(units-200)*10\n",
    "else:\n",
    "    Charges = 450+600+1000+(units-300)*20\n",
    "    print(Charges)"
   ]
  },
  {
   "cell_type": "code",
   "execution_count": null,
   "id": "c2e008c8-7270-4356-ab47-b9bbb4ca200f",
   "metadata": {},
   "outputs": [],
   "source": [
    "Q4. Create a list of numbers from 1 to 100. Use for loop and while loop to calculate the cube of each\n",
    "number and if the cube of that number is divisible by 4 or 5 then append that number in a list and print\n",
    "that list?"
   ]
  },
  {
   "cell_type": "code",
   "execution_count": null,
   "id": "e3b07443-0eaf-4912-8d99-eab0f8a6c348",
   "metadata": {},
   "outputs": [],
   "source": [
    "Ans:- For Loop\n",
    "\n",
    "l = []\n",
    "for i in range(4,101):\n",
    "    if (i % 4 == 0 or i % 5 == 0):\n",
    "        l.append(i)\n",
    "    print(pow(i,3))"
   ]
  },
  {
   "cell_type": "code",
   "execution_count": null,
   "id": "6693dfdc-9d1e-44ec-ad49-0775088c6ac3",
   "metadata": {},
   "outputs": [],
   "source": [
    "Ans:- While Loop\n",
    "\n",
    "l = 4\n",
    "l1 = []\n",
    "while l <= 100:\n",
    "    if (l % 4 == 0 or l % 5 == 0):\n",
    "        l1.append(l)\n",
    "    print(pow(i,3))    \n",
    "    "
   ]
  },
  {
   "cell_type": "code",
   "execution_count": null,
   "id": "5c189342-f264-46ef-a294-02d9d8d0ddae",
   "metadata": {},
   "outputs": [],
   "source": [
    "Q5. Write a program to filter count vowels in the below-given string.\n",
    "string = \"I want to become a data scientist\"?"
   ]
  },
  {
   "cell_type": "code",
   "execution_count": null,
   "id": "5b3d539c-87c8-480e-8d44-d6e814847e77",
   "metadata": {},
   "outputs": [],
   "source": [
    "a = \"I want to become a data scientist\"\n",
    "v = 0\n",
    "for i in a:\n",
    "    if(i == 'a' or i == 'e' or i == 'i' or i == 'o' or i == 'u' or i == 'A' or \n",
    "       i == 'E' or i == 'I' or i == 'O' or i == 'U'):\n",
    "        v = v+1\n",
    "    \n",
    "print(v)"
   ]
  }
 ],
 "metadata": {
  "kernelspec": {
   "display_name": "Python 3 (ipykernel)",
   "language": "python",
   "name": "python3"
  },
  "language_info": {
   "codemirror_mode": {
    "name": "ipython",
    "version": 3
   },
   "file_extension": ".py",
   "mimetype": "text/x-python",
   "name": "python",
   "nbconvert_exporter": "python",
   "pygments_lexer": "ipython3",
   "version": "3.10.8"
  }
 },
 "nbformat": 4,
 "nbformat_minor": 5
}
